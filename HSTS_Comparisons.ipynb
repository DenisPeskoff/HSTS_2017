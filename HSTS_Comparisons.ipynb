{
 "cells": [
  {
   "cell_type": "markdown",
   "metadata": {},
   "source": [
    "## Script for Comparing HSTS List to Other Local Files"
   ]
  },
  {
   "cell_type": "markdown",
   "metadata": {},
   "source": [
    "This notebook uses the same logic as the previous one to process all the versions.  It has a simplified parse (with the original in comments), and methods to compare to Ivan's domains and Frank's organizations"
   ]
  },
  {
   "cell_type": "markdown",
   "metadata": {},
   "source": [
    "### Upgrades for scale:  \n",
    "\n",
    "#### ONLY 'domains-sorted.txt' has to replaced with the full ipv4 list      \n",
    "    \n",
    "No need to replace: 'domain-to-org.txt' - Frank doesn't have anything larger\n",
    "HSTS-versions has to be uploaded to achtung\n",
    " "
   ]
  },
  {
   "cell_type": "code",
   "execution_count": 4,
   "metadata": {
    "collapsed": true
   },
   "outputs": [],
   "source": [
    "import urllib\n",
    "import json\n",
    "import re\n",
    "import csv\n",
    "import base64\n",
    "import matplotlib.pyplot as plt\n",
    "import numpy as np"
   ]
  },
  {
   "cell_type": "code",
   "execution_count": 37,
   "metadata": {
    "collapsed": false
   },
   "outputs": [],
   "source": [
    "def url_reader(url):\n",
    "    #open url\n",
    "    f = urllib.urlopen(url)\n",
    "    handle = f.read()\n",
    "    f.close()\n",
    "    \n",
    "    #URLs used are format=text, so base64 decoding has to be done\n",
    "    handle = base64.b64decode(handle)\n",
    "    lines = handle.splitlines(True)\n",
    "    \n",
    "    #any comments will break the json reading library, these are the three types of spacings that occur\n",
    "    fixed_json = ''.join(line for line in lines if not (line.startswith('//') or line.startswith('    //') or line.startswith('  //')))\n",
    "    read_json = json.loads(fixed_json)\n",
    "    return read_json\n",
    "\n",
    "def parse(json_f):\n",
    "    total = 0\n",
    "    unique_entries = set()\n",
    "    \n",
    "    #specific to JSON format\n",
    "    for entry in (json_f['entries']):\n",
    "        total += 1\n",
    "        if entry['name'].find(\"www\") != -1:\n",
    "            unique_entries.add(entry['name'][entry['name'].find('.'):])\n",
    "\n",
    "        else:\n",
    "             unique_entries.add(entry['name'])\n",
    "\n",
    "       \n",
    "    \n",
    "        '''\n",
    "        #find the last period from the right\n",
    "        last_period = entry['name'].rfind(\".\") \n",
    "        if last_period == -1: #just for google\n",
    "            ;#print entry['name']\n",
    "        else:\n",
    "            #extract text between 2nd to last period and last period (and account for case where that doesn't happen)\n",
    "            second2last_period = entry['name'][:last_period].rfind(\".\")\n",
    "            if second2last_period == -1:\n",
    "                #print entry['name'][:last_period]\n",
    "                unique_entries.add(entry['name'][:last_period])\n",
    "            else:\n",
    "                #print entry['name'][second2last_period+1:last_period]\n",
    "                unique_entries.add(entry['name'][second2last_period+1:last_period])\n",
    "        '''\n",
    "    return unique_entries, total"
   ]
  },
  {
   "cell_type": "markdown",
   "metadata": {},
   "source": [
    "## Local File Processing"
   ]
  },
  {
   "cell_type": "code",
   "execution_count": 38,
   "metadata": {
    "collapsed": false
   },
   "outputs": [],
   "source": [
    "\n",
    "#process data from Alexa top million, actually 800k provided by Ivan\n",
    "with open('domains-sorted.txt', 'r') as topsites:\n",
    "    original_data = csv.reader(topsites)\n",
    "    hsts_search = dict()\n",
    "    hkpk_search = dict()\n",
    "    for item in original_data:\n",
    "        last_period = item[1].rfind(\".\")\n",
    "        #add in the commented part if you adjust parses\n",
    "        hsts_search[item[1]] = int(item[2])  #[0:last_period])]\n",
    "        hkpk_search[item[1]] = int(item[3]) #[0:last_period]\n",
    "\n",
    "\n",
    "#this contains a list of Google's chromium versions\n",
    "with open('hsts_versions.txt', 'r') as versions:\n",
    "    v_list = versions.readlines()    \n",
    "v_dict = dict()\n",
    "for line in v_list:\n",
    "    first_period = line.find(\".\")\n",
    "    #this takes the first instance of a particular high-level version and saves it as the value for that key\n",
    "    if (line[0:first_period] not in v_dict.keys()):\n",
    "        v_dict[int(line[0:first_period])] = line.strip() #strip needed to remove \\n at end\n",
    "        "
   ]
  },
  {
   "cell_type": "code",
   "execution_count": 3,
   "metadata": {
    "collapsed": false
   },
   "outputs": [],
   "source": [
    "org_dict = {}\n",
    "\n",
    "with open('domain-to-org.txt', 'r') as org:\n",
    "    org_list = org.readlines()\n",
    "    for line in org_list:\n",
    "        line = line.split()\n",
    "    \n",
    "        org_dict[line[0]] = line[1]\n",
    "\n",
    "inv_org = {}\n",
    "\n",
    "#not used but could be for extracting entities that have overlap\n",
    "for k,v in org_dict.iteritems():\n",
    "    #try:\n",
    "    if v in inv_org:\n",
    "        inv_org[v].append(k)\n",
    "    else:\n",
    "        inv_org[v] = [k]"
   ]
  },
  {
   "cell_type": "markdown",
   "metadata": {},
   "source": [
    "## Comparsion Functions.  Both depend on local files previously being read into dictionary"
   ]
  },
  {
   "cell_type": "code",
   "execution_count": 39,
   "metadata": {
    "collapsed": false
   },
   "outputs": [],
   "source": [
    "def compare_crawl_zmap(url_set):\n",
    "    count_found = 0\n",
    "    hsts_used = 0 \n",
    "    hkpk_used = 0\n",
    "    names = []\n",
    "    for entry in url_set:\n",
    "        if hsts_search.has_key(entry):\n",
    "            count_found +=1\n",
    "            hsts_used+=hsts_search[entry]\n",
    "            hkpk_used+=hkpk_search[entry]\n",
    "            if hkpk_search[entry] == 1:\n",
    "                names.append(str(entry))\n",
    "    return count_found, hsts_used, hkpk_used, names\n",
    "\n",
    "def compare_org(url_set):\n",
    "    site_set = set()\n",
    "    total_found = 0\n",
    "    print org_dict.keys()\n",
    "    for entry in url_set:\n",
    "        if org_dict.has_key(entry):\n",
    "            total_found += 1\n",
    "            site_set.add(org_dict[entry])\n",
    "\n",
    "    print len(site_set)\n",
    "    print total_found"
   ]
  },
  {
   "cell_type": "code",
   "execution_count": 40,
   "metadata": {
    "collapsed": false
   },
   "outputs": [
    {
     "name": "stdout",
     "output_type": "stream",
     "text": [
      "2669 2146 97\n",
      "['click-licht.de', 'myownconference.com', 'obsproject.com', 'manesht.ir', 'pcloud.com', 'thekingofhate.com', 'otya.me', 'muabannhanh.com', 'megaplan.ru', 'espci.fr', 'frillip.com', 'ges-bo.de', 'stat.ink', 'vieclam24h.vn', 'dnscrypt.org', 'privacyinternational.org', 'libsodium.org', 'myownconference.ru', 'thecustomizewindows.com', 'm2epro.com', 'github.com', 'cdnjs.com', 'philadelphia.com.mx', 'factuursturen.nl', 'themonthly.com.au', 'deltava.org', 'flagspot.net', 'ripple.com', 'atraining.ru', 'securityheaders.io', 'umisonoda.com', 'rootforum.org', 'lovelivewiki.com', 'megaxchange.com', 'grokker.com', 'linux.cn', 'troi.de', 'obscuredfiles.com', 'ikwilthepiratebay.org', 'fresh.co.il', 'billogram.com', 'peterdavehello.org', 'unrealircd.org', 'gyas.nl', 'imququ.com', 'myownconference.pl', 'ich-tanke.de', 'slo-tech.com', 'server-essentials.com', 'lovizaim.ru', 'edyou.eu', 'posteo.de', 'hicoria.com', 'mobileread.com', 'imjad.cn', 'nostraforma.com', 'unila.edu.br', 'treinaweb.com.br', 'minecraftforum.de', 'overkillshop.com', 'keepersecurity.com', 'ss-free.net', 'hearty.me', 'spamloco.net', 'scotthelme.co.uk', 'fsinf.at', 'safe.moe', 'raymii.org', 'weblogzwolle.nl', 'nickstories.de', 'imlonghao.com', 'hboeck.de', 'khipu.com', 'freeshell.de', 'factuursturen.be', 'oblast45.ru', 'lodash.com', 'slevomat.cz', 'thesaturdaypaper.com.au', 'detectify.com', 'imirhil.fr', 'charge.co', 'wtfismyip.com', 'tailify.com', 'networking4all.com', 'iprim.ru', 'imouto.my', 'decoder.link', 'numatic.co.uk', 'dan.me.uk', 'shopping24.de', 'mivzakim.net', 'jabber.at', 'zlavomat.sk', 'hele.cz', 'tuningblog.eu', 'coinbase.com']\n"
     ]
    }
   ],
   "source": [
    "for key in sorted(list(v_dict.keys()))[-1:]:\n",
    "\n",
    "    #specific format for this url\n",
    "    #Alternate url for current version: \"https://cs.chromium.org/codesearch/f/chromium/src/net/http/transport_security_state_static.json\"\n",
    "    temp_url = \"https://chromium.googlesource.com/chromium/src/+/\" + v_dict[key] + \"/net/http/transport_security_state_static.json?format=text\"  \n",
    "    #run custom functions above\n",
    "    processed_json =  url_reader(temp_url)\n",
    "    json_set, total = parse(processed_json)\n",
    "    #compare_org(json_set)\n",
    "    \n",
    "    count1, count2, count3, names = compare_crawl_zmap(json_set)\n",
    "    print count1, count2, count3\n",
    "    print (names)\n",
    "    #save for plotting\n",
    "    #x_axis.append(key)\n",
    " "
   ]
  },
  {
   "cell_type": "markdown",
   "metadata": {},
   "source": [
    "## Plotting"
   ]
  },
  {
   "cell_type": "code",
   "execution_count": 3,
   "metadata": {
    "collapsed": false
   },
   "outputs": [
    {
     "data": {
      "image/png": "[encoded data removed]",
      "text/plain": [
       "<matplotlib.figure.Figure at 0x105e86350>"
      ]
     },
     "metadata": {},
     "output_type": "display_data"
    }
   ],
   "source": [
    "objects = ('In_list', 'HSTS', 'HKPK')\n",
    "y_pos = np.arange(len(objects))\n",
    "y = [2669, 2146, 97]\n",
    "\n",
    "\n",
    "plt.bar(y_pos, y, align='center', alpha=0.5)\n",
    "plt.xticks(y_pos, objects)\n",
    "plt.ylabel('Number')\n",
    "plt.title('HSTS List Scanning Results')\n",
    "\n",
    "\n",
    "plt.show()"
   ]
  }
 ],
 "metadata": {
  "anaconda-cloud": {},
  "kernelspec": {
   "display_name": "Python [conda root]",
   "language": "python",
   "name": "conda-root-py"
  },
  "language_info": {
   "codemirror_mode": {
    "name": "ipython",
    "version": 2
   },
   "file_extension": ".py",
   "mimetype": "text/x-python",
   "name": "python",
   "nbconvert_exporter": "python",
   "pygments_lexer": "ipython2",
   "version": "2.7.12"
  }
 },
 "nbformat": 4,
 "nbformat_minor": 1
}
